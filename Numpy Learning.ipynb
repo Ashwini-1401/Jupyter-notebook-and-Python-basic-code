{
 "cells": [
  {
   "cell_type": "code",
   "execution_count": 1,
   "id": "preliminary-november",
   "metadata": {},
   "outputs": [],
   "source": [
    "import numpy as np\n"
   ]
  },
  {
   "cell_type": "code",
   "execution_count": 2,
   "id": "compressed-anthropology",
   "metadata": {},
   "outputs": [],
   "source": [
    "arr = np.array([1,2,3])"
   ]
  },
  {
   "cell_type": "code",
   "execution_count": 3,
   "id": "nasty-slovakia",
   "metadata": {},
   "outputs": [
    {
     "data": {
      "text/plain": [
       "array([1, 2, 3])"
      ]
     },
     "execution_count": 3,
     "metadata": {},
     "output_type": "execute_result"
    }
   ],
   "source": [
    "arr"
   ]
  },
  {
   "cell_type": "markdown",
   "id": "unsigned-royal",
   "metadata": {},
   "source": [
    "# Array creation methods\n"
   ]
  },
  {
   "cell_type": "code",
   "execution_count": 6,
   "id": "premier-tension",
   "metadata": {},
   "outputs": [],
   "source": [
    "myArr = np.array([[1,2,3],[5,6,7]], np.int8)"
   ]
  },
  {
   "cell_type": "code",
   "execution_count": 7,
   "id": "precise-clinton",
   "metadata": {},
   "outputs": [
    {
     "data": {
      "text/plain": [
       "array([[1, 2, 3],\n",
       "       [5, 6, 7]], dtype=int8)"
      ]
     },
     "execution_count": 7,
     "metadata": {},
     "output_type": "execute_result"
    }
   ],
   "source": [
    "myArr"
   ]
  },
  {
   "cell_type": "code",
   "execution_count": 8,
   "id": "juvenile-mexico",
   "metadata": {},
   "outputs": [
    {
     "data": {
      "text/plain": [
       "(2, 3)"
      ]
     },
     "execution_count": 8,
     "metadata": {},
     "output_type": "execute_result"
    }
   ],
   "source": [
    "myArr.shape"
   ]
  },
  {
   "cell_type": "code",
   "execution_count": 9,
   "id": "sharp-queen",
   "metadata": {},
   "outputs": [
    {
     "data": {
      "text/plain": [
       "6"
      ]
     },
     "execution_count": 9,
     "metadata": {},
     "output_type": "execute_result"
    }
   ],
   "source": [
    "myArr.size\n"
   ]
  },
  {
   "cell_type": "code",
   "execution_count": 10,
   "id": "sitting-moore",
   "metadata": {},
   "outputs": [],
   "source": [
    "myArr[0,0]=11"
   ]
  },
  {
   "cell_type": "code",
   "execution_count": 11,
   "id": "difficult-necessity",
   "metadata": {},
   "outputs": [
    {
     "data": {
      "text/plain": [
       "array([[11,  2,  3],\n",
       "       [ 5,  6,  7]], dtype=int8)"
      ]
     },
     "execution_count": 11,
     "metadata": {},
     "output_type": "execute_result"
    }
   ],
   "source": [
    "myArr"
   ]
  },
  {
   "cell_type": "code",
   "execution_count": 13,
   "id": "turkish-interest",
   "metadata": {},
   "outputs": [],
   "source": [
    "zeroArr = np.zeros((2,5))"
   ]
  },
  {
   "cell_type": "code",
   "execution_count": 14,
   "id": "incident-journal",
   "metadata": {},
   "outputs": [],
   "source": [
    "oneArr = np.ones((2,2))"
   ]
  },
  {
   "cell_type": "code",
   "execution_count": 15,
   "id": "conservative-luther",
   "metadata": {},
   "outputs": [
    {
     "data": {
      "text/plain": [
       "array([[1., 1.],\n",
       "       [1., 1.]])"
      ]
     },
     "execution_count": 15,
     "metadata": {},
     "output_type": "execute_result"
    }
   ],
   "source": [
    "oneArr"
   ]
  },
  {
   "cell_type": "code",
   "execution_count": 16,
   "id": "banner-phone",
   "metadata": {},
   "outputs": [],
   "source": [
    "arr2 = np.arange(3)"
   ]
  },
  {
   "cell_type": "code",
   "execution_count": 17,
   "id": "special-harbor",
   "metadata": {},
   "outputs": [
    {
     "data": {
      "text/plain": [
       "array([0, 1, 2])"
      ]
     },
     "execution_count": 17,
     "metadata": {},
     "output_type": "execute_result"
    }
   ],
   "source": [
    "arr2"
   ]
  },
  {
   "cell_type": "code",
   "execution_count": 19,
   "id": "satellite-moses",
   "metadata": {},
   "outputs": [],
   "source": [
    "lnspace = np.linspace(1,5,5)"
   ]
  },
  {
   "cell_type": "code",
   "execution_count": 20,
   "id": "drawn-implementation",
   "metadata": {},
   "outputs": [
    {
     "data": {
      "text/plain": [
       "array([1., 2., 3., 4., 5.])"
      ]
     },
     "execution_count": 20,
     "metadata": {},
     "output_type": "execute_result"
    }
   ],
   "source": [
    "lnspace"
   ]
  },
  {
   "cell_type": "code",
   "execution_count": 21,
   "id": "blank-jimmy",
   "metadata": {},
   "outputs": [],
   "source": [
    "lnspace2 = np.linspace(1,5,5,np.int8)"
   ]
  },
  {
   "cell_type": "code",
   "execution_count": 24,
   "id": "developing-niagara",
   "metadata": {},
   "outputs": [],
   "source": [
    "lnspace2.dtype = np.int8"
   ]
  },
  {
   "cell_type": "code",
   "execution_count": 25,
   "id": "aquatic-attribute",
   "metadata": {},
   "outputs": [
    {
     "data": {
      "text/plain": [
       "array([  0,   0,   0,   0,   0,   0, -16,  63,   0,   0,   0,   0,   0,\n",
       "         0,   0,  64,   0,   0,   0,   0,   0,   0,   8,  64,   0,   0,\n",
       "         0,   0,   0,   0,  16,  64,   0,   0,   0,   0,   0,   0,  20,\n",
       "        64], dtype=int8)"
      ]
     },
     "execution_count": 25,
     "metadata": {},
     "output_type": "execute_result"
    }
   ],
   "source": [
    "lnspace2"
   ]
  },
  {
   "cell_type": "code",
   "execution_count": 26,
   "id": "quality-chinese",
   "metadata": {},
   "outputs": [],
   "source": [
    "emp = np.empty_like(arr2)  #this will create an array like arr2 */"
   ]
  },
  {
   "cell_type": "code",
   "execution_count": 27,
   "id": "typical-conservative",
   "metadata": {},
   "outputs": [
    {
     "data": {
      "text/plain": [
       "array([-2025983984,         446,           0])"
      ]
     },
     "execution_count": 27,
     "metadata": {},
     "output_type": "execute_result"
    }
   ],
   "source": [
    "emp  "
   ]
  },
  {
   "cell_type": "code",
   "execution_count": 29,
   "id": "transsexual-rainbow",
   "metadata": {},
   "outputs": [],
   "source": [
    "emp = np.empty((2,3))  # create array of 2,3 size with random numbers(float*/)"
   ]
  },
  {
   "cell_type": "code",
   "execution_count": 30,
   "id": "lonely-construction",
   "metadata": {},
   "outputs": [
    {
     "data": {
      "text/plain": [
       "array([[0., 0., 0.],\n",
       "       [0., 0., 0.]])"
      ]
     },
     "execution_count": 30,
     "metadata": {},
     "output_type": "execute_result"
    }
   ],
   "source": [
    "emp"
   ]
  },
  {
   "cell_type": "code",
   "execution_count": 31,
   "id": "noble-sugar",
   "metadata": {},
   "outputs": [],
   "source": [
    "id = np.identity(5)"
   ]
  },
  {
   "cell_type": "code",
   "execution_count": 32,
   "id": "perceived-single",
   "metadata": {},
   "outputs": [
    {
     "data": {
      "text/plain": [
       "array([[1., 0., 0., 0., 0.],\n",
       "       [0., 1., 0., 0., 0.],\n",
       "       [0., 0., 1., 0., 0.],\n",
       "       [0., 0., 0., 1., 0.],\n",
       "       [0., 0., 0., 0., 1.]])"
      ]
     },
     "execution_count": 32,
     "metadata": {},
     "output_type": "execute_result"
    }
   ],
   "source": [
    "id"
   ]
  },
  {
   "cell_type": "code",
   "execution_count": 33,
   "id": "refined-rouge",
   "metadata": {},
   "outputs": [],
   "source": [
    "arr3 = np.arange(20)"
   ]
  },
  {
   "cell_type": "code",
   "execution_count": 34,
   "id": "wired-publicity",
   "metadata": {},
   "outputs": [
    {
     "data": {
      "text/plain": [
       "array([ 0,  1,  2,  3,  4,  5,  6,  7,  8,  9, 10, 11, 12, 13, 14, 15, 16,\n",
       "       17, 18, 19])"
      ]
     },
     "execution_count": 34,
     "metadata": {},
     "output_type": "execute_result"
    }
   ],
   "source": [
    "arr3"
   ]
  },
  {
   "cell_type": "code",
   "execution_count": 35,
   "id": "desperate-longer",
   "metadata": {},
   "outputs": [
    {
     "data": {
      "text/plain": [
       "array([[ 0,  1,  2,  3,  4,  5,  6,  7,  8,  9],\n",
       "       [10, 11, 12, 13, 14, 15, 16, 17, 18, 19]])"
      ]
     },
     "execution_count": 35,
     "metadata": {},
     "output_type": "execute_result"
    }
   ],
   "source": [
    "arr3.reshape(2,10)   # 2 * 10 =20 so it could be reshaped but 1,10 or 2,3 etc can't be*/S"
   ]
  },
  {
   "cell_type": "code",
   "execution_count": 37,
   "id": "incorporated-excerpt",
   "metadata": {},
   "outputs": [
    {
     "data": {
      "text/plain": [
       "array([ 0,  1,  2,  3,  4,  5,  6,  7,  8,  9, 10, 11, 12, 13, 14, 15, 16,\n",
       "       17, 18, 19])"
      ]
     },
     "execution_count": 37,
     "metadata": {},
     "output_type": "execute_result"
    }
   ],
   "source": [
    "arr3.ravel()  #becomes 1D array*/"
   ]
  },
  {
   "cell_type": "markdown",
   "id": "received-disclosure",
   "metadata": {},
   "source": [
    "# Array Axis"
   ]
  },
  {
   "cell_type": "code",
   "execution_count": 38,
   "id": "serious-special",
   "metadata": {},
   "outputs": [],
   "source": [
    "arr4 = np.array([[1,2,3],[4,5,6],[7,8,9]])"
   ]
  },
  {
   "cell_type": "code",
   "execution_count": 39,
   "id": "completed-danish",
   "metadata": {},
   "outputs": [
    {
     "data": {
      "text/plain": [
       "array([[1, 2, 3],\n",
       "       [4, 5, 6],\n",
       "       [7, 8, 9]])"
      ]
     },
     "execution_count": 39,
     "metadata": {},
     "output_type": "execute_result"
    }
   ],
   "source": [
    "arr4"
   ]
  },
  {
   "cell_type": "code",
   "execution_count": 40,
   "id": "american-archives",
   "metadata": {},
   "outputs": [
    {
     "data": {
      "text/plain": [
       "array([[1, 4, 7],\n",
       "       [2, 5, 8],\n",
       "       [3, 6, 9]])"
      ]
     },
     "execution_count": 40,
     "metadata": {},
     "output_type": "execute_result"
    }
   ],
   "source": [
    "arr4.T   # Transpose of array */"
   ]
  },
  {
   "cell_type": "code",
   "execution_count": 41,
   "id": "impossible-asset",
   "metadata": {},
   "outputs": [
    {
     "data": {
      "text/plain": [
       "array([[1, 2, 3],\n",
       "       [4, 5, 6],\n",
       "       [7, 8, 9]])"
      ]
     },
     "execution_count": 41,
     "metadata": {},
     "output_type": "execute_result"
    }
   ],
   "source": [
    "arr4"
   ]
  },
  {
   "cell_type": "code",
   "execution_count": 42,
   "id": "enclosed-whale",
   "metadata": {},
   "outputs": [
    {
     "data": {
      "text/plain": [
       "array([12, 15, 18])"
      ]
     },
     "execution_count": 42,
     "metadata": {},
     "output_type": "execute_result"
    }
   ],
   "source": [
    "arr4.sum(axis = 0)  # axis 0 is y-axis just think like that for remembering and so it will sum the elements in columns / vertically*/"
   ]
  },
  {
   "cell_type": "code",
   "execution_count": 43,
   "id": "blank-hartford",
   "metadata": {},
   "outputs": [
    {
     "data": {
      "text/plain": [
       "array([ 6, 15, 24])"
      ]
     },
     "execution_count": 43,
     "metadata": {},
     "output_type": "execute_result"
    }
   ],
   "source": [
    "arr4.sum(axis = 1)   # axis 1 is x-axis just think like that for remembering and so it will sum the elements in rows / horizontally*/"
   ]
  },
  {
   "cell_type": "code",
   "execution_count": 44,
   "id": "helpful-agenda",
   "metadata": {},
   "outputs": [
    {
     "name": "stdout",
     "output_type": "stream",
     "text": [
      "[1 2 3]\n",
      "[4 5 6]\n",
      "[7 8 9]\n"
     ]
    }
   ],
   "source": [
    "for i in arr4:\n",
    "    print(i)"
   ]
  },
  {
   "cell_type": "code",
   "execution_count": 45,
   "id": "medical-small",
   "metadata": {},
   "outputs": [
    {
     "data": {
      "text/plain": [
       "<numpy.flatiter at 0x1be877c5810>"
      ]
     },
     "execution_count": 45,
     "metadata": {},
     "output_type": "execute_result"
    }
   ],
   "source": [
    "arr4.flat  #it provides  an iterator to iterate through the elements*/"
   ]
  },
  {
   "cell_type": "code",
   "execution_count": 47,
   "id": "metropolitan-branch",
   "metadata": {},
   "outputs": [
    {
     "name": "stdout",
     "output_type": "stream",
     "text": [
      "1\n",
      "2\n",
      "3\n",
      "4\n",
      "5\n",
      "6\n",
      "7\n",
      "8\n",
      "9\n"
     ]
    }
   ],
   "source": [
    "for item in arr4.flat:\n",
    "    print(item)"
   ]
  },
  {
   "cell_type": "code",
   "execution_count": 48,
   "id": "powered-content",
   "metadata": {},
   "outputs": [
    {
     "data": {
      "text/plain": [
       "2"
      ]
     },
     "execution_count": 48,
     "metadata": {},
     "output_type": "execute_result"
    }
   ],
   "source": [
    "arr4.ndim"
   ]
  },
  {
   "cell_type": "code",
   "execution_count": 49,
   "id": "emerging-mainstream",
   "metadata": {},
   "outputs": [
    {
     "data": {
      "text/plain": [
       "9"
      ]
     },
     "execution_count": 49,
     "metadata": {},
     "output_type": "execute_result"
    }
   ],
   "source": [
    "arr4.size"
   ]
  },
  {
   "cell_type": "code",
   "execution_count": 50,
   "id": "naughty-highway",
   "metadata": {},
   "outputs": [
    {
     "data": {
      "text/plain": [
       "36"
      ]
     },
     "execution_count": 50,
     "metadata": {},
     "output_type": "execute_result"
    }
   ],
   "source": [
    "arr4.nbytes"
   ]
  },
  {
   "cell_type": "markdown",
   "id": "changing-murder",
   "metadata": {},
   "source": [
    "**without parenthesis are attributes with parenthesis are methods**"
   ]
  },
  {
   "cell_type": "code",
   "execution_count": 57,
   "id": "august-radio",
   "metadata": {},
   "outputs": [],
   "source": [
    "one = np.array([1,2,655,76])"
   ]
  },
  {
   "cell_type": "code",
   "execution_count": 60,
   "id": "novel-listing",
   "metadata": {},
   "outputs": [
    {
     "data": {
      "text/plain": [
       "2"
      ]
     },
     "execution_count": 60,
     "metadata": {},
     "output_type": "execute_result"
    }
   ],
   "source": [
    "  one.argmax()    #gives index of maximum element"
   ]
  },
  {
   "cell_type": "code",
   "execution_count": 62,
   "id": "imperial-baghdad",
   "metadata": {},
   "outputs": [
    {
     "data": {
      "text/plain": [
       "0"
      ]
     },
     "execution_count": 62,
     "metadata": {},
     "output_type": "execute_result"
    }
   ],
   "source": [
    "one.argmin()"
   ]
  },
  {
   "cell_type": "code",
   "execution_count": 63,
   "id": "blessed-belarus",
   "metadata": {},
   "outputs": [],
   "source": [
    "one.sort()"
   ]
  },
  {
   "cell_type": "code",
   "execution_count": 64,
   "id": "intimate-rochester",
   "metadata": {},
   "outputs": [
    {
     "data": {
      "text/plain": [
       "array([  1,   2,  76, 655])"
      ]
     },
     "execution_count": 64,
     "metadata": {},
     "output_type": "execute_result"
    }
   ],
   "source": [
    "one"
   ]
  },
  {
   "cell_type": "code",
   "execution_count": 65,
   "id": "improved-agency",
   "metadata": {},
   "outputs": [],
   "source": [
    "two = np.array([1,34,3,657,43])"
   ]
  },
  {
   "cell_type": "code",
   "execution_count": 66,
   "id": "thick-export",
   "metadata": {},
   "outputs": [
    {
     "data": {
      "text/plain": [
       "array([0, 2, 1, 4, 3], dtype=int64)"
      ]
     },
     "execution_count": 66,
     "metadata": {},
     "output_type": "execute_result"
    }
   ],
   "source": [
    "two.argsort()   #this will give the indices in order to sort the elements"
   ]
  },
  {
   "cell_type": "code",
   "execution_count": 67,
   "id": "featured-vegetarian",
   "metadata": {},
   "outputs": [
    {
     "data": {
      "text/plain": [
       "array([[1, 2, 3],\n",
       "       [4, 5, 6],\n",
       "       [7, 8, 9]])"
      ]
     },
     "execution_count": 67,
     "metadata": {},
     "output_type": "execute_result"
    }
   ],
   "source": [
    "arr4"
   ]
  },
  {
   "cell_type": "code",
   "execution_count": 68,
   "id": "little-separation",
   "metadata": {},
   "outputs": [
    {
     "data": {
      "text/plain": [
       "0"
      ]
     },
     "execution_count": 68,
     "metadata": {},
     "output_type": "execute_result"
    }
   ],
   "source": [
    "arr4.argmin()"
   ]
  },
  {
   "cell_type": "code",
   "execution_count": 70,
   "id": "exotic-dominant",
   "metadata": {},
   "outputs": [
    {
     "data": {
      "text/plain": [
       "8"
      ]
     },
     "execution_count": 70,
     "metadata": {},
     "output_type": "execute_result"
    }
   ],
   "source": [
    "arr4.argmax()"
   ]
  },
  {
   "cell_type": "code",
   "execution_count": 71,
   "id": "acoustic-glossary",
   "metadata": {},
   "outputs": [
    {
     "data": {
      "text/plain": [
       "array([2, 2, 2], dtype=int64)"
      ]
     },
     "execution_count": 71,
     "metadata": {},
     "output_type": "execute_result"
    }
   ],
   "source": [
    "arr4.argmax(axis=0)  #maximum element in 0 or vertical axis"
   ]
  },
  {
   "cell_type": "code",
   "execution_count": 72,
   "id": "failing-binary",
   "metadata": {},
   "outputs": [
    {
     "data": {
      "text/plain": [
       "array([2, 2, 2], dtype=int64)"
      ]
     },
     "execution_count": 72,
     "metadata": {},
     "output_type": "execute_result"
    }
   ],
   "source": [
    "arr4.argmax(axis=1)  #maximum element in 01 or horizontal axis"
   ]
  },
  {
   "cell_type": "code",
   "execution_count": 74,
   "id": "considerable-presentation",
   "metadata": {},
   "outputs": [
    {
     "data": {
      "text/plain": [
       "array([[0, 0, 0],\n",
       "       [1, 1, 1],\n",
       "       [2, 2, 2]], dtype=int64)"
      ]
     },
     "execution_count": 74,
     "metadata": {},
     "output_type": "execute_result"
    }
   ],
   "source": [
    "arr4.argsort(axis=0)"
   ]
  },
  {
   "cell_type": "code",
   "execution_count": 75,
   "id": "heated-seafood",
   "metadata": {},
   "outputs": [
    {
     "data": {
      "text/plain": [
       "array([1, 2, 3, 4, 5, 6, 7, 8, 9])"
      ]
     },
     "execution_count": 75,
     "metadata": {},
     "output_type": "execute_result"
    }
   ],
   "source": [
    "arr4.ravel()"
   ]
  },
  {
   "cell_type": "code",
   "execution_count": 76,
   "id": "delayed-mitchell",
   "metadata": {},
   "outputs": [
    {
     "data": {
      "text/plain": [
       "array([[1, 2, 3, 4, 5, 6, 7, 8, 9]])"
      ]
     },
     "execution_count": 76,
     "metadata": {},
     "output_type": "execute_result"
    }
   ],
   "source": [
    "arr4.reshape(1,9)"
   ]
  },
  {
   "cell_type": "code",
   "execution_count": 80,
   "id": "sunset-falls",
   "metadata": {},
   "outputs": [],
   "source": [
    "ar1 = np.array([[1,2,3],[3,4,5],[3,43,4]])"
   ]
  },
  {
   "cell_type": "code",
   "execution_count": 81,
   "id": "environmental-valve",
   "metadata": {},
   "outputs": [],
   "source": [
    "ar2 = np.array([[3,45,6],[9,0,6],[0,4,6]])"
   ]
  },
  {
   "cell_type": "code",
   "execution_count": 82,
   "id": "suitable-leather",
   "metadata": {},
   "outputs": [
    {
     "data": {
      "text/plain": [
       "array([[ 1,  2,  3],\n",
       "       [ 3,  4,  5],\n",
       "       [ 3, 43,  4]])"
      ]
     },
     "execution_count": 82,
     "metadata": {},
     "output_type": "execute_result"
    }
   ],
   "source": [
    "ar1"
   ]
  },
  {
   "cell_type": "code",
   "execution_count": 83,
   "id": "technological-africa",
   "metadata": {},
   "outputs": [
    {
     "data": {
      "text/plain": [
       "array([[ 3, 45,  6],\n",
       "       [ 9,  0,  6],\n",
       "       [ 0,  4,  6]])"
      ]
     },
     "execution_count": 83,
     "metadata": {},
     "output_type": "execute_result"
    }
   ],
   "source": [
    "ar2"
   ]
  },
  {
   "cell_type": "code",
   "execution_count": 84,
   "id": "reduced-geology",
   "metadata": {},
   "outputs": [
    {
     "data": {
      "text/plain": [
       "array([[ 4, 47,  9],\n",
       "       [12,  4, 11],\n",
       "       [ 3, 47, 10]])"
      ]
     },
     "execution_count": 84,
     "metadata": {},
     "output_type": "execute_result"
    }
   ],
   "source": [
    "ar1 + ar2"
   ]
  },
  {
   "cell_type": "code",
   "execution_count": 85,
   "id": "neutral-cache",
   "metadata": {},
   "outputs": [
    {
     "data": {
      "text/plain": [
       "array([[  3,  90,  18],\n",
       "       [ 27,   0,  30],\n",
       "       [  0, 172,  24]])"
      ]
     },
     "execution_count": 85,
     "metadata": {},
     "output_type": "execute_result"
    }
   ],
   "source": [
    "ar1 * ar2"
   ]
  },
  {
   "cell_type": "code",
   "execution_count": 86,
   "id": "stopped-methodology",
   "metadata": {},
   "outputs": [
    {
     "data": {
      "text/plain": [
       "array([[1.        , 1.41421356, 1.73205081],\n",
       "       [1.73205081, 2.        , 2.23606798],\n",
       "       [1.73205081, 6.55743852, 2.        ]])"
      ]
     },
     "execution_count": 86,
     "metadata": {},
     "output_type": "execute_result"
    }
   ],
   "source": [
    "np.sqrt(ar1)"
   ]
  },
  {
   "cell_type": "code",
   "execution_count": 87,
   "id": "accepted-beast",
   "metadata": {},
   "outputs": [
    {
     "data": {
      "text/plain": [
       "68"
      ]
     },
     "execution_count": 87,
     "metadata": {},
     "output_type": "execute_result"
    }
   ],
   "source": [
    "ar1.sum(\n",
    ")"
   ]
  },
  {
   "cell_type": "code",
   "execution_count": 88,
   "id": "satellite-steering",
   "metadata": {},
   "outputs": [
    {
     "data": {
      "text/plain": [
       "1"
      ]
     },
     "execution_count": 88,
     "metadata": {},
     "output_type": "execute_result"
    }
   ],
   "source": [
    "ar1.min()"
   ]
  },
  {
   "cell_type": "code",
   "execution_count": 90,
   "id": "matched-dublin",
   "metadata": {},
   "outputs": [
    {
     "data": {
      "text/plain": [
       "43"
      ]
     },
     "execution_count": 90,
     "metadata": {},
     "output_type": "execute_result"
    }
   ],
   "source": [
    "ar1.max()"
   ]
  },
  {
   "cell_type": "code",
   "execution_count": 94,
   "id": "consecutive-bunch",
   "metadata": {},
   "outputs": [
    {
     "data": {
      "text/plain": [
       "tuple"
      ]
     },
     "execution_count": 94,
     "metadata": {},
     "output_type": "execute_result"
    }
   ],
   "source": [
    "type(np.where(ar1>5))"
   ]
  },
  {
   "cell_type": "code",
   "execution_count": 92,
   "id": "mathematical-narrative",
   "metadata": {},
   "outputs": [
    {
     "data": {
      "text/plain": [
       "array([[ 1,  2,  3],\n",
       "       [ 3,  4,  5],\n",
       "       [ 3, 43,  4]])"
      ]
     },
     "execution_count": 92,
     "metadata": {},
     "output_type": "execute_result"
    }
   ],
   "source": [
    "ar1"
   ]
  },
  {
   "cell_type": "code",
   "execution_count": 95,
   "id": "dynamic-windows",
   "metadata": {},
   "outputs": [
    {
     "data": {
      "text/plain": [
       "9"
      ]
     },
     "execution_count": 95,
     "metadata": {},
     "output_type": "execute_result"
    }
   ],
   "source": [
    "np.count_nonzero(ar1)"
   ]
  },
  {
   "cell_type": "code",
   "execution_count": 96,
   "id": "compound-serum",
   "metadata": {},
   "outputs": [
    {
     "data": {
      "text/plain": [
       "(array([0, 0, 0, 1, 1, 1, 2, 2, 2], dtype=int64),\n",
       " array([0, 1, 2, 0, 1, 2, 0, 1, 2], dtype=int64))"
      ]
     },
     "execution_count": 96,
     "metadata": {},
     "output_type": "execute_result"
    }
   ],
   "source": [
    "np.nonzero(ar1)"
   ]
  },
  {
   "cell_type": "code",
   "execution_count": 97,
   "id": "precious-grade",
   "metadata": {},
   "outputs": [],
   "source": [
    "import sys"
   ]
  },
  {
   "cell_type": "code",
   "execution_count": 98,
   "id": "limiting-privilege",
   "metadata": {},
   "outputs": [],
   "source": [
    "list = [3,5,6]"
   ]
  },
  {
   "cell_type": "code",
   "execution_count": 99,
   "id": "sexual-activity",
   "metadata": {},
   "outputs": [],
   "source": [
    "arr = np.array(list)"
   ]
  },
  {
   "cell_type": "code",
   "execution_count": 100,
   "id": "linear-american",
   "metadata": {},
   "outputs": [
    {
     "data": {
      "text/plain": [
       "[3, 5, 6]"
      ]
     },
     "execution_count": 100,
     "metadata": {},
     "output_type": "execute_result"
    }
   ],
   "source": [
    "list"
   ]
  },
  {
   "cell_type": "code",
   "execution_count": 101,
   "id": "elder-steering",
   "metadata": {},
   "outputs": [
    {
     "data": {
      "text/plain": [
       "array([3, 5, 6])"
      ]
     },
     "execution_count": 101,
     "metadata": {},
     "output_type": "execute_result"
    }
   ],
   "source": [
    "arr"
   ]
  },
  {
   "cell_type": "markdown",
   "id": "available-estonia",
   "metadata": {},
   "source": [
    "**storage difference between python list and numpy array**"
   ]
  },
  {
   "cell_type": "code",
   "execution_count": 104,
   "id": "exotic-monitor",
   "metadata": {},
   "outputs": [
    {
     "data": {
      "text/plain": [
       "84"
      ]
     },
     "execution_count": 104,
     "metadata": {},
     "output_type": "execute_result"
    }
   ],
   "source": [
    "sys.getsizeof(1) * len(list)"
   ]
  },
  {
   "cell_type": "code",
   "execution_count": 107,
   "id": "quarterly-phrase",
   "metadata": {},
   "outputs": [
    {
     "data": {
      "text/plain": [
       "12"
      ]
     },
     "execution_count": 107,
     "metadata": {},
     "output_type": "execute_result"
    }
   ],
   "source": [
    "arr.nbytes"
   ]
  },
  {
   "cell_type": "code",
   "execution_count": 108,
   "id": "complex-findings",
   "metadata": {},
   "outputs": [
    {
     "data": {
      "text/plain": [
       "12"
      ]
     },
     "execution_count": 108,
     "metadata": {},
     "output_type": "execute_result"
    }
   ],
   "source": [
    "arr.itemsize * arr.size"
   ]
  },
  {
   "cell_type": "code",
   "execution_count": null,
   "id": "listed-tribute",
   "metadata": {},
   "outputs": [],
   "source": []
  }
 ],
 "metadata": {
  "kernelspec": {
   "display_name": "Python 3",
   "language": "python",
   "name": "python3"
  },
  "language_info": {
   "codemirror_mode": {
    "name": "ipython",
    "version": 3
   },
   "file_extension": ".py",
   "mimetype": "text/x-python",
   "name": "python",
   "nbconvert_exporter": "python",
   "pygments_lexer": "ipython3",
   "version": "3.9.1"
  }
 },
 "nbformat": 4,
 "nbformat_minor": 5
}
